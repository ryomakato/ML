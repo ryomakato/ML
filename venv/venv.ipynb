{
 "cells": [
  {
   "cell_type": "markdown",
   "metadata": {},
   "source": [
    "# Pythonの仮想環境の作り方\n",
    "***"
   ]
  },
  {
   "cell_type": "markdown",
   "metadata": {},
   "source": [
    " ## 仮想環境の作成\n",
    " \n",
    "プロジェクトディレクトリの直下に置くとわかりやすい  \n",
    "python[version] でバージョンを指定\n",
    "  \n",
    "$ python3 -m venv /path/to/new/virtual/environment\n",
    "  \n",
    "$ python3 -m venv .venv"
   ]
  },
  {
   "cell_type": "markdown",
   "metadata": {},
   "source": [
    "## Activate\n",
    "\n",
    "Linux, Mac  \n",
    "$ source path/to/virtual/enviroment/bin/activate\n",
    "  \n",
    "Windows  \n",
    "$ path/to/virtual/enviroment/Scripts/activate"
   ]
  },
  {
   "cell_type": "markdown",
   "metadata": {},
   "source": [
    "## Upgrade pip\n",
    "\n",
    "$ pip install --upgrade pip"
   ]
  },
  {
   "cell_type": "markdown",
   "metadata": {},
   "source": [
    "## Deactive\n",
    "\n",
    "$ deactivate"
   ]
  },
  {
   "cell_type": "markdown",
   "metadata": {},
   "source": [
    "## ライブラリをインストール\n",
    "\n",
    "$ pip install -r requirements.txt"
   ]
  },
  {
   "cell_type": "markdown",
   "metadata": {},
   "source": [
    "## 仮想環境のライブラリを共有\n",
    "\n",
    "$ pip3 freeze > requirements.txt"
   ]
  },
  {
   "cell_type": "markdown",
   "metadata": {},
   "source": [
    "## Jupyter notebook on venv\n",
    "\n",
    "仮想環境上でipykernelをインストールする\n",
    "  \n",
    "$ pip install ipykernel\n",
    "\n",
    "その後jupyterにカーネルを追加する\n",
    "  \n",
    "$ ipython kernel install --user --name=projectname"
   ]
  },
  {
   "cell_type": "markdown",
   "metadata": {},
   "source": [
    "## Jupyter Kernel\n",
    "\n",
    "カーネルのリスト\n",
    "  \n",
    "$ jupyter kernelspec list\n",
    "\n",
    "カーネルを削除する\n",
    "  \n",
    "$ jupyter kernelspec uninstall projectname"
   ]
  }
 ],
 "metadata": {
  "kernelspec": {
   "display_name": "test",
   "language": "python",
   "name": "test"
  },
  "language_info": {
   "codemirror_mode": {
    "name": "ipython",
    "version": 3
   },
   "file_extension": ".py",
   "mimetype": "text/x-python",
   "name": "python",
   "nbconvert_exporter": "python",
   "pygments_lexer": "ipython3",
   "version": "3.7.1"
  }
 },
 "nbformat": 4,
 "nbformat_minor": 2
}
