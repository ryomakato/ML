{
 "cells": [
  {
   "cell_type": "code",
   "execution_count": null,
   "metadata": {},
   "outputs": [],
   "source": [
    "import numpy as np\n",
    "import matplotlib.pyplot as plt\n",
    "import seaborn as sns\n",
    "import matplotlib\n",
    "matplotlib.rcParams['font.size'] = 12"
   ]
  },
  {
   "cell_type": "code",
   "execution_count": null,
   "metadata": {},
   "outputs": [],
   "source": [
    "class Gridworld:\n",
    "  def __init__(self, size=6, traps=[], alpha=0):\n",
    "    self.size = size\n",
    "    self.traps = traps\n",
    "    self.alpha = alpha\n",
    "    self.start = (0, 0)\n",
    "    self.goal = (size-1, size-1)\n",
    "\n",
    "    self.states = [(x, y) for x in range(size) for y in range(size)]\n",
    "    self.actions = [(-1, 0), (0, -1), (1, 0), (0, 1)]\n",
    "    \n",
    "    self.policy = {}\n",
    "    for s in self.states:\n",
    "      self.policy[(s, (-1, 0))] = 0\n",
    "      self.policy[(s, (0, -1))] = 0\n",
    "      self.policy[(s, (1, 0))] = 1/2\n",
    "      self.policy[(s, (0, 1))] = 1/2\n",
    "\n",
    "    self.value = {}\n",
    "    for s in self.states:\n",
    "      self.value[s] = 0\n",
    "   \n",
    "  def move(self, s, a):\n",
    "    if s == self.goal:\n",
    "      return [(1, 0, s)]      # Probability, Reward, Next state\n",
    "\n",
    "    s_new = (s[0] + a[0], s[1] + a[1])\n",
    "\n",
    "    if s_new not in self.states:\n",
    "      return [(1, 0, s)]      # Probability, Reward, Next state\n",
    "\n",
    "    if s_new in self.traps:\n",
    "      # Probability, Reward, Next state\n",
    "      return [(self.alpha, -1, self.start), (1-self.alpha, -1, self.goal)]\n",
    "\n",
    "    return [(1, -1, s_new)]   # Probability, Reward, Next state"
   ]
  },
  {
   "cell_type": "code",
   "execution_count": null,
   "metadata": {},
   "outputs": [],
   "source": [
    "def show_values(world, subplot=None, title='Values'):\n",
    "  if not subplot:\n",
    "    fig = plt.figure(figsize=(world.size*0.8, world.size*0.8))\n",
    "    subplot = fig.add_subplot(1, 1, 1)\n",
    "\n",
    "  result = np.zeros([world.size, world.size])\n",
    "  for (x, y) in world.states:\n",
    "    if (x, y) in world.traps:\n",
    "      result[y][x] = None\n",
    "    else:\n",
    "      result[y][x]  = world.value[(x, y)]\n",
    "  sns.heatmap(result, square=True, cbar=False,\n",
    "              annot=True, fmt='3.1f', cmap='coolwarm',\n",
    "              ax=subplot).set_title(title)"
   ]
  }
 ],
 "metadata": {
  "language_info": {
   "name": "python"
  },
  "orig_nbformat": 4
 },
 "nbformat": 4,
 "nbformat_minor": 2
}
